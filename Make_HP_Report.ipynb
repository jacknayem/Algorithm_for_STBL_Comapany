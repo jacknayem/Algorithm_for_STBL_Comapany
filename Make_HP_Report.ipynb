{
 "cells": [
  {
   "cell_type": "code",
   "execution_count": 11,
   "metadata": {},
   "outputs": [],
   "source": [
    "import pandas as pd\n",
    "from pandas import ExcelWriter\n",
    "from pandas import ExcelFile\n",
    "import numpy as np"
   ]
  },
  {
   "cell_type": "code",
   "execution_count": 12,
   "metadata": {},
   "outputs": [],
   "source": [
    "df = pd.read_excel(r'C:\\Users\\Apurbo\\Desktop\\Raw_0901-0907\\RawData_0901-0907.xlsx')"
   ]
  },
  {
   "cell_type": "code",
   "execution_count": 13,
   "metadata": {},
   "outputs": [
    {
     "name": "stdout",
     "output_type": "stream",
     "text": [
      "230\n",
      "178\n",
      "178\n",
      "178\n",
      "1549\n"
     ]
    }
   ],
   "source": [
    "Partner_ERP_Sheet = pd.read_excel (r'D:\\OneDrive\\ASPEN\\Partner_List_(Updated).xlsx', sheet_name='As per ERP')\n",
    "Partner_HPI_Sheet = pd.read_excel(r'D:\\OneDrive\\ASPEN\\Partner_List_(Updated).xlsx', sheet_name='As per HPI')\n",
    "Product_File = pd.read_excel(r'D:\\OneDrive\\ASPEN\\Product_ID.xlsx')\n",
    "\n",
    "partner_ID_raw,partner_ID_col = Partner_ERP_Sheet.shape\n",
    "partner_raw,partner_col = Partner_HPI_Sheet.shape\n",
    "prodcut_raw,prodcut_col = Product_File.shape\n",
    "\n",
    "Partner_ID = {}\n",
    "Partner_Name = {}\n",
    "Partner_Address = {}\n",
    "Partner_City = {}\n",
    "P_ID = {}\n",
    "P_Segment = {}\n",
    "for i in range(partner_ID_raw):\n",
    "    Partner_ID.update({str(Partner_ERP_Sheet.iloc[i,0]) : str(Partner_ERP_Sheet.iloc[i,1])})\n",
    "for i in range(partner_raw):\n",
    "    Partner_Name.update({str(Partner_HPI_Sheet.iloc[i,1]) : str(Partner_HPI_Sheet.iloc[i,2])})\n",
    "    Partner_Address.update({str(Partner_HPI_Sheet.iloc[i,1]) : str(Partner_HPI_Sheet.iloc[i,3])})\n",
    "    Partner_City.update({str(Partner_HPI_Sheet.iloc[i,1]) : str(Partner_HPI_Sheet.iloc[i,4])})\n",
    "for i in range(prodcut_raw):\n",
    "    P_ID.update({str(Product_File.iloc[i,2]) : str(Product_File.iloc[i,3])})\n",
    "    P_Segment.update({str(Product_File.iloc[i,3]) : str(Product_File.iloc[i,5])})\n",
    "\n",
    "\n",
    "PartnerIDDictionary = Partner_ID\n",
    "PartnerNameDictionary = Partner_Name\n",
    "ParnerAddressDictionary = Partner_Address\n",
    "PartnerCityDictionary = Partner_City\n",
    "ProductIDDictionary = P_ID\n",
    "ProductSegmentDictionary = P_Segment\n",
    "\n",
    "print(len(PartnerIDDictionary))\n",
    "print(len(PartnerNameDictionary))\n",
    "print(len(ParnerAddressDictionary))\n",
    "print(len(PartnerCityDictionary))\n",
    "print(len(ProductIDDictionary))"
   ]
  },
  {
   "cell_type": "code",
   "execution_count": 14,
   "metadata": {},
   "outputs": [
    {
     "name": "stdout",
     "output_type": "stream",
     "text": [
      "908\n",
      "908\n",
      "908\n",
      "908\n",
      "908\n",
      "908\n",
      "908\n",
      "908\n",
      "908\n",
      "908\n",
      "908\n",
      "908\n",
      "908\n"
     ]
    }
   ],
   "source": [
    "x,y = df.shape\n",
    "groupName = ''\n",
    "InvoiceNumber = ''\n",
    "serialNumber = ''\n",
    "Group = []\n",
    "Invoice = []\n",
    "Serial = []\n",
    "PartnerID = []\n",
    "PartnerName = []\n",
    "PartnerAddress = []\n",
    "PartnerCity = []\n",
    "Product = []\n",
    "ProductID = []\n",
    "Quantity = []\n",
    "UnitePrice = []\n",
    "Value = []\n",
    "Date = []\n",
    "Segments = []\n",
    "for i in range(x):\n",
    "    check = str(pd.isnull(df.iloc[i, 0]))\n",
    "    if(check == 'True'):\n",
    "        if(serialNumber == ''):\n",
    "            serialNumber = str(df.iloc[i, 2])\n",
    "        else:\n",
    "            serialNumber = serialNumber+', '+str(df.iloc[i, 2])\n",
    "    if(check == 'False'):\n",
    "        location = str(df.iloc[i,0])\n",
    "        Group.append(str(df.iloc[i, 0]))\n",
    "        fullInvoice = str(df.iloc[i,1])\n",
    "        InvoiceNumber = fullInvoice[4:]\n",
    "        Invoice.append(InvoiceNumber)\n",
    "        if(location == \"Bag\" or location == \"Cartridge\"):\n",
    "                Serial.append('')\n",
    "                serialNumber = ''\n",
    "        else:\n",
    "            if(serialNumber != ''):\n",
    "                Serial.append(serialNumber)\n",
    "                serialNumber = ''\n",
    "        PatnerOrginalName = str(df.iloc[i,4])\n",
    "        if(PatnerOrginalName in PartnerIDDictionary.keys()):\n",
    "            PartnerID.append(PartnerIDDictionary[PatnerOrginalName])\n",
    "        else:\n",
    "            PartnerID.append('2-SIWB-5914')\n",
    "        Product.append(str(df.iloc[i,7]))\n",
    "        Quantity.append(int(df.iloc[i,8]))\n",
    "        UnitePrice.append(float(df.iloc[i,9]))\n",
    "        Value.append(int(df.iloc[i,8]) * float(df.iloc[i,9]))\n",
    "        Date.append(str(df.iloc[i,10]))\n",
    "Serial.append(serialNumber)\n",
    "for key in range(len(PartnerID)):\n",
    "    PartnerName.append(PartnerNameDictionary[PartnerID[key]])\n",
    "    PartnerAddress.append(ParnerAddressDictionary[PartnerID[key]])\n",
    "    PartnerCity.append(PartnerCityDictionary[PartnerID[key]])\n",
    "    if(Product[key] in ProductIDDictionary.keys()):\n",
    "        ProductID.append(ProductIDDictionary[Product[key]])\n",
    "    else:\n",
    "        ProductID.append(\"\")\n",
    "print(len(Group))\n",
    "print(len(Invoice))\n",
    "print(len(Serial))\n",
    "print(len(PartnerID))\n",
    "print(len(PartnerName))\n",
    "print(len(PartnerAddress))\n",
    "print(len(PartnerCity))\n",
    "print(len(Product))\n",
    "print(len(ProductID))\n",
    "print(len(Quantity))\n",
    "print(len(UnitePrice))\n",
    "print(len(Value))\n",
    "print(len(Date))"
   ]
  },
  {
   "cell_type": "code",
   "execution_count": 15,
   "metadata": {},
   "outputs": [],
   "source": [
    "Creating_file = pd.DataFrame({'Group':Group,\n",
    "                    'Invoice Number': Invoice,\n",
    "                    'Serial': Serial,\n",
    "                    'Partner ID': PartnerID,\n",
    "                    'Partner Name': PartnerName,\n",
    "                    'Address': PartnerAddress,\n",
    "                    'City': PartnerCity,\n",
    "                    'Product' : Product,\n",
    "                    'Product ID': ProductID,\n",
    "                    'Quantity': Quantity,\n",
    "                    'Unite Price': UnitePrice,\n",
    "                    'Value': Value,\n",
    "                    'Date': Date\n",
    "                   })\n",
    "\n",
    "writer = ExcelWriter('Ready_File.xlsx')\n",
    "Creating_file.to_excel(writer,'Reported',index=False)\n",
    "writer.save()"
   ]
  },
  {
   "cell_type": "code",
   "execution_count": null,
   "metadata": {},
   "outputs": [],
   "source": []
  }
 ],
 "metadata": {
  "kernelspec": {
   "display_name": "Python 3",
   "language": "python",
   "name": "python3"
  },
  "language_info": {
   "codemirror_mode": {
    "name": "ipython",
    "version": 3
   },
   "file_extension": ".py",
   "mimetype": "text/x-python",
   "name": "python",
   "nbconvert_exporter": "python",
   "pygments_lexer": "ipython3",
   "version": "3.7.3"
  }
 },
 "nbformat": 4,
 "nbformat_minor": 2
}
